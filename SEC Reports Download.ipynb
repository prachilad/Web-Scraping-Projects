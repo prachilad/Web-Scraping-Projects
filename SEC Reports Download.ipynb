{
 "cells": [
  {
   "cell_type": "code",
   "execution_count": 3,
   "metadata": {},
   "outputs": [
    {
     "name": "stdout",
     "output_type": "stream",
     "text": [
      "Collecting python-edgar\n",
      "  Downloading python_edgar-3.1.3-py3-none-any.whl (8.6 kB)\n",
      "Installing collected packages: python-edgar\n",
      "Successfully installed python-edgar-3.1.3\n",
      "Note: you may need to restart the kernel to use updated packages.\n"
     ]
    }
   ],
   "source": [
    "# pip install python-edgar"
   ]
  },
  {
   "cell_type": "code",
   "execution_count": 4,
   "metadata": {},
   "outputs": [],
   "source": [
    "import edgar\n",
    "import requests\n",
    "from bs4 import BeautifulSoup\n",
    "from selenium import webdriver\n",
    "import pandas as pd"
   ]
  },
  {
   "cell_type": "code",
   "execution_count": 12,
   "metadata": {},
   "outputs": [],
   "source": [
    "# downloads a tab separated file containing company details and filings index\n",
    "user_agent = 'prachilad96@gmail.com'\n",
    "since_year = 2020\n",
    "edgar.download_index('C:/Users/Admin/Documents/Python Scripts/Edgar', since_year,user_agent, skip_all_present_except_last=False)"
   ]
  },
  {
   "cell_type": "code",
   "execution_count": 13,
   "metadata": {},
   "outputs": [
    {
     "name": "stderr",
     "output_type": "stream",
     "text": [
      "<ipython-input-13-d77db4894f19>:1: ParserWarning: Falling back to the 'python' engine because the 'c' engine does not support regex separators (separators > 1 char and different from '\\s+' are interpreted as regex); you can avoid this warning by specifying engine='python'.\n",
      "  csv = pd.read_csv('C:/Users/Admin/Documents/Python Scripts/Edgar/2020-QTR2.tsv',sep='/t', lineterminator='\\n', names=None)\n"
     ]
    },
    {
     "data": {
      "text/html": [
       "<div>\n",
       "<style scoped>\n",
       "    .dataframe tbody tr th:only-of-type {\n",
       "        vertical-align: middle;\n",
       "    }\n",
       "\n",
       "    .dataframe tbody tr th {\n",
       "        vertical-align: top;\n",
       "    }\n",
       "\n",
       "    .dataframe thead th {\n",
       "        text-align: right;\n",
       "    }\n",
       "</style>\n",
       "<table border=\"1\" class=\"dataframe\">\n",
       "  <thead>\n",
       "    <tr style=\"text-align: right;\">\n",
       "      <th></th>\n",
       "      <th>Item</th>\n",
       "    </tr>\n",
       "  </thead>\n",
       "  <tbody>\n",
       "    <tr>\n",
       "      <th>0</th>\n",
       "      <td>1000045|NICHOLAS FINANCIAL INC|4/A|2020-06-09|...</td>\n",
       "    </tr>\n",
       "    <tr>\n",
       "      <th>1</th>\n",
       "      <td>1000045|NICHOLAS FINANCIAL INC|4|2020-06-09|ed...</td>\n",
       "    </tr>\n",
       "    <tr>\n",
       "      <th>2</th>\n",
       "      <td>1000045|NICHOLAS FINANCIAL INC|4|2020-06-10|ed...</td>\n",
       "    </tr>\n",
       "    <tr>\n",
       "      <th>3</th>\n",
       "      <td>1000045|NICHOLAS FINANCIAL INC|4|2020-06-29|ed...</td>\n",
       "    </tr>\n",
       "    <tr>\n",
       "      <th>4</th>\n",
       "      <td>1000045|NICHOLAS FINANCIAL INC|8-K|2020-04-03|...</td>\n",
       "    </tr>\n",
       "  </tbody>\n",
       "</table>\n",
       "</div>"
      ],
      "text/plain": [
       "                                                Item\n",
       "0  1000045|NICHOLAS FINANCIAL INC|4/A|2020-06-09|...\n",
       "1  1000045|NICHOLAS FINANCIAL INC|4|2020-06-09|ed...\n",
       "2  1000045|NICHOLAS FINANCIAL INC|4|2020-06-10|ed...\n",
       "3  1000045|NICHOLAS FINANCIAL INC|4|2020-06-29|ed...\n",
       "4  1000045|NICHOLAS FINANCIAL INC|8-K|2020-04-03|..."
      ]
     },
     "execution_count": 13,
     "metadata": {},
     "output_type": "execute_result"
    }
   ],
   "source": [
    "csv = pd.read_csv('C:/Users/Admin/Documents/Python Scripts/Edgar/2020-QTR2.tsv',sep='/t', lineterminator='\\n', names=None)\n",
    "csv.columns.values[0]='Item'\n",
    "selectedreport = '10-K'\n",
    "company_reports = []\n",
    "\n",
    "csv.head()"
   ]
  },
  {
   "cell_type": "code",
   "execution_count": 14,
   "metadata": {},
   "outputs": [
    {
     "data": {
      "text/html": [
       "<div>\n",
       "<style scoped>\n",
       "    .dataframe tbody tr th:only-of-type {\n",
       "        vertical-align: middle;\n",
       "    }\n",
       "\n",
       "    .dataframe tbody tr th {\n",
       "        vertical-align: top;\n",
       "    }\n",
       "\n",
       "    .dataframe thead th {\n",
       "        text-align: right;\n",
       "    }\n",
       "</style>\n",
       "<table border=\"1\" class=\"dataframe\">\n",
       "  <thead>\n",
       "    <tr style=\"text-align: right;\">\n",
       "      <th></th>\n",
       "      <th>Item</th>\n",
       "    </tr>\n",
       "  </thead>\n",
       "  <tbody>\n",
       "    <tr>\n",
       "      <th>70</th>\n",
       "      <td>1000209|MEDALLION FINANCIAL CORP|10-K/A|2020-0...</td>\n",
       "    </tr>\n",
       "    <tr>\n",
       "      <th>594</th>\n",
       "      <td>1000683|BLONDER TONGUE LABORATORIES INC|10-K/A...</td>\n",
       "    </tr>\n",
       "    <tr>\n",
       "      <th>595</th>\n",
       "      <td>1000683|BLONDER TONGUE LABORATORIES INC|10-K|2...</td>\n",
       "    </tr>\n",
       "    <tr>\n",
       "      <th>623</th>\n",
       "      <td>1000694|NOVAVAX INC|10-K/A|2020-04-29|edgar/da...</td>\n",
       "    </tr>\n",
       "    <tr>\n",
       "      <th>753</th>\n",
       "      <td>1001171|BROADWAY FINANCIAL CORP \\DE\\|10-K/A|20...</td>\n",
       "    </tr>\n",
       "  </tbody>\n",
       "</table>\n",
       "</div>"
      ],
      "text/plain": [
       "                                                  Item\n",
       "70   1000209|MEDALLION FINANCIAL CORP|10-K/A|2020-0...\n",
       "594  1000683|BLONDER TONGUE LABORATORIES INC|10-K/A...\n",
       "595  1000683|BLONDER TONGUE LABORATORIES INC|10-K|2...\n",
       "623  1000694|NOVAVAX INC|10-K/A|2020-04-29|edgar/da...\n",
       "753  1001171|BROADWAY FINANCIAL CORP \\DE\\|10-K/A|20..."
      ]
     },
     "execution_count": 14,
     "metadata": {},
     "output_type": "execute_result"
    }
   ],
   "source": [
    "reports = csv[(csv['Item'].str.contains(selectedreport))] # from the df filter reports of selected report\n",
    "reports.head()\n"
   ]
  },
  {
   "cell_type": "code",
   "execution_count": 15,
   "metadata": {},
   "outputs": [],
   "source": [
    "Filing = reports['Item'].str.split('|').to_list()\n",
    "companies=[]\n",
    "for i in Filing: # getting only 10-K reports and not 10-K/A\n",
    "    if i[2] == '10-K':\n",
    "        companies.append(i)"
   ]
  },
  {
   "cell_type": "code",
   "execution_count": 16,
   "metadata": {},
   "outputs": [
    {
     "data": {
      "text/plain": [
       "['1000683',\n",
       " 'BLONDER TONGUE LABORATORIES INC',\n",
       " '10-K',\n",
       " '2020-04-13',\n",
       " 'edgar/data/1000683/0001213900-20-009053.txt',\n",
       " 'edgar/data/1000683/0001213900-20-009053-index.html']"
      ]
     },
     "execution_count": 16,
     "metadata": {},
     "output_type": "execute_result"
    }
   ],
   "source": [
    "companies[0]"
   ]
  },
  {
   "cell_type": "code",
   "execution_count": 17,
   "metadata": {},
   "outputs": [],
   "source": [
    "# getting the html link of the index page of all companies\n",
    "for item in companies:\n",
    "#    print(item)\n",
    "    if 'html' in item[5]:\n",
    "        url = \"https://www.sec.gov/Archives/\" + item[5]\n",
    "        company_reports.append(url)"
   ]
  },
  {
   "cell_type": "code",
   "execution_count": 42,
   "metadata": {},
   "outputs": [
    {
     "name": "stdout",
     "output_type": "stream",
     "text": [
      "https://www.sec.gov/Archives/edgar/data/1000683/0001213900-20-009053-index.html\n",
      "https://www.sec.gov/Archives/edgar/data/1001463/0001185185-20-000904-index.html\n",
      "https://www.sec.gov/Archives/edgar/data/1002047/0001564590-20-029349-index.html\n",
      "https://www.sec.gov/Archives/edgar/data/1002135/0001002135-20-000020-index.html\n",
      "https://www.sec.gov/Archives/edgar/data/1004989/0001437749-20-007674-index.html\n"
     ]
    }
   ],
   "source": [
    "for i in company_reports[0:5]:\n",
    "    print(i)"
   ]
  },
  {
   "cell_type": "code",
   "execution_count": 51,
   "metadata": {},
   "outputs": [],
   "source": [
    "# from the edgar index page scraping the report link using BeautifulSoup\n",
    "# the final report link is appended in list reports\n",
    "# this cell takes time to run\n",
    "headers = {'User-Agent': 'Mozilla/5.0 (Windows NT 10.0; Win64; x64) AppleWebKit/537.36 (KHTML, like Gecko) Chrome/91.0.4472.164 Safari/537.36'}\n",
    "reports = []\n",
    "selectedreport = '10-K'\n",
    "for i in company_reports:\n",
    "#     print(i)\n",
    "    response = requests.get(i,headers=headers)\n",
    "    soup = BeautifulSoup(response.content, 'html.parser')\n",
    "    tables=soup.find_all('table')\n",
    "#     print(tables)\n",
    "    \n",
    "    df=pd.read_html(str(tables[0]))\n",
    "    df = df[0]\n",
    "#     print(df)\n",
    "    df = df.dropna()\n",
    "    document = df[df['Type'].str.contains(selectedreport)]\n",
    "    try:\n",
    "        document = document['Document'].str.split(' ')[0][0]\n",
    "    \n",
    "        \n",
    "        final_report_link= i.replace('-', '').replace('index.html','')\n",
    "        final_url = final_report_link + '/' + document\n",
    "        reports.append(final_url)\n",
    "    except IndexError:\n",
    "        pass\n",
    "    except KeyError:\n",
    "        pass"
   ]
  },
  {
   "cell_type": "code",
   "execution_count": 52,
   "metadata": {},
   "outputs": [
    {
     "data": {
      "text/plain": [
       "['https://www.sec.gov/Archives/edgar/data/1000683/000121390020009053/f10k2019_blondertongue.htm',\n",
       " 'https://www.sec.gov/Archives/edgar/data/1001463/000118518520000904/acaciadiv20191231_10k.htm',\n",
       " 'https://www.sec.gov/Archives/edgar/data/1002047/000156459020029349/ntap-10k_20200424.htm',\n",
       " 'https://www.sec.gov/Archives/edgar/data/1002135/000100213520000020/wstl-2020331x10k.htm',\n",
       " 'https://www.sec.gov/Archives/edgar/data/1004989/000143774920007674/sgrp20191231_10k.htm']"
      ]
     },
     "execution_count": 52,
     "metadata": {},
     "output_type": "execute_result"
    }
   ],
   "source": [
    "reports[0:5]"
   ]
  },
  {
   "cell_type": "code",
   "execution_count": 35,
   "metadata": {},
   "outputs": [],
   "source": [
    "# The report will be downloaded using the SEC PDF Render API using the parameters token, type and url of report \n",
    "# Using the Selenium api for automatically accessing the api that downloads reports on the system\n",
    "\n",
    "driver = webdriver.Chrome(\"C:/Users/prachi/.wdm/drivers/chromedriver/win32/91.0.4472.101/chromedriver.exe\") #chromedriver path\n",
    "for i in reports: # using the sec api\n",
    "    url = 'https://api.sec-api.io/filing-reader?token=c01d386517374a550d167fbe2657f902eb82c4f9f9540a8c4afa73bcb6bfad9a&type=pdf&url=' + i\n",
    "    driver.get(url)\n",
    "    "
   ]
  }
 ],
 "metadata": {
  "kernelspec": {
   "display_name": "Python 3",
   "language": "python",
   "name": "python3"
  },
  "language_info": {
   "codemirror_mode": {
    "name": "ipython",
    "version": 3
   },
   "file_extension": ".py",
   "mimetype": "text/x-python",
   "name": "python",
   "nbconvert_exporter": "python",
   "pygments_lexer": "ipython3",
   "version": "3.8.8"
  }
 },
 "nbformat": 4,
 "nbformat_minor": 4
}
